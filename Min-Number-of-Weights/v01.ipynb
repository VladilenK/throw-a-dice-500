{
 "cells": [
  {
   "cell_type": "code",
   "execution_count": 15,
   "id": "43617caa",
   "metadata": {},
   "outputs": [
    {
     "name": "stdout",
     "output_type": "stream",
     "text": [
      "[False, False, False, False, False, False, False, False, False, False]\n",
      "eq\n",
      "[True, False, False, False, False, False, False, False, False, False]\n",
      "[True, False, False, False, False, False, False, False, False, False]\n"
     ]
    }
   ],
   "source": [
    "# Puzzle. What is the minimum number of weights needed to be able to weigh all integer weights from 1 to 100 on a pan balance?\n",
    "import itertools\n",
    "maxWeight = 10\n",
    "targetWeights = list()\n",
    "tw = list()\n",
    "for i in range(maxWeight):\n",
    "    targetWeights.append(False)\n",
    "\n",
    "print(targetWeights)\n",
    "tw = targetWeights\n",
    "tw[0] = True\n",
    "if tw == targetWeights:\n",
    "    print(\"eq\")\n",
    "\n",
    "print(targetWeights)\n",
    "print(tw)\n"
   ]
  },
  {
   "cell_type": "code",
   "execution_count": null,
   "id": "3b056570",
   "metadata": {},
   "outputs": [],
   "source": []
  }
 ],
 "metadata": {
  "kernelspec": {
   "display_name": "Python 3 (ipykernel)",
   "language": "python",
   "name": "python3"
  },
  "language_info": {
   "codemirror_mode": {
    "name": "ipython",
    "version": 3
   },
   "file_extension": ".py",
   "mimetype": "text/x-python",
   "name": "python",
   "nbconvert_exporter": "python",
   "pygments_lexer": "ipython3",
   "version": "3.9.13"
  }
 },
 "nbformat": 4,
 "nbformat_minor": 5
}
